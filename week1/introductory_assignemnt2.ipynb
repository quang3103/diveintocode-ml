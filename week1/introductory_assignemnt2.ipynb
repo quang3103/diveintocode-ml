{
 "cells": [
  {
   "cell_type": "code",
   "execution_count": 1,
   "metadata": {},
   "outputs": [
    {
     "name": "stdout",
     "output_type": "stream",
     "text": [
      "26\n"
     ]
    }
   ],
   "source": [
    "#problem 1\n",
    "import math\n",
    "thickness = 0.00008\n",
    "FujiHeight = 3776\n",
    "numberOfFolds = math.ceil(math.log2(FujiHeight / thickness))\n",
    "print(numberOfFolds)"
   ]
  },
  {
   "cell_type": "code",
   "execution_count": 2,
   "metadata": {},
   "outputs": [
    {
     "name": "stdout",
     "output_type": "stream",
     "text": [
      "Times you have to bend the paper to reach the Alpha Centauri: 56\n"
     ]
    }
   ],
   "source": [
    "#problem 2\n",
    "def compute_numbers_of_folds(height = 3776, thickness = 0.00008):\n",
    "    return math.ceil(math.log2(height / thickness))\n",
    "\n",
    "print(\"Times you have to bend the paper to reach the Alpha Centauri:\", compute_numbers_of_folds(4.13425091 * pow(10, 13), 0.001))"
   ]
  },
  {
   "cell_type": "code",
   "execution_count": 3,
   "metadata": {},
   "outputs": [
    {
     "name": "stdout",
     "output_type": "stream",
     "text": [
      "Length of paper needed to reach the Moon: 3.240919444170781e+21\n",
      "Length of paper needed to reach the Fuji: 188646348487.24017\n",
      "Length of paper needed to reach the Mercury: 8.495875867724161e+26\n"
     ]
    }
   ],
   "source": [
    "def compute_length(height = 3776, thickness = 0.00008):\n",
    "    numberOfFolds = compute_numbers_of_folds(height, thickness)\n",
    "    twoPowerN = pow(2,numberOfFolds)\n",
    "    return (math.pi * thickness / 6) * (twoPowerN + 4) * (twoPowerN - 1)\n",
    "\n",
    "print(\"Length of paper needed to reach the Moon:\", compute_length(384400000, 0.00008))\n",
    "print(\"Length of paper needed to reach the Fuji:\", compute_length(3776, 0.00008))\n",
    "print(\"Length of paper needed to reach the Mercury:\", compute_length(222*pow(10,9), 0.00008))"
   ]
  }
 ],
 "metadata": {
  "kernelspec": {
   "display_name": "Python 3",
   "language": "python",
   "name": "python3"
  },
  "language_info": {
   "codemirror_mode": {
    "name": "ipython",
    "version": 3
   },
   "file_extension": ".py",
   "mimetype": "text/x-python",
   "name": "python",
   "nbconvert_exporter": "python",
   "pygments_lexer": "ipython3",
   "version": "3.8.6"
  }
 },
 "nbformat": 4,
 "nbformat_minor": 4
}
