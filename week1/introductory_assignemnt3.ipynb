{
 "cells": [
  {
   "cell_type": "code",
   "execution_count": 3,
   "metadata": {},
   "outputs": [
    {
     "name": "stdout",
     "output_type": "stream",
     "text": [
      "Time it takes to fill the universe: 170 minutes\n"
     ]
    }
   ],
   "source": [
    "import math\n",
    "# the volume unit is litter, and time unit is minute\n",
    "def compute_time_to_fill(volumeOfDoubleObject = 0.6, volumeOfFilledObject = pow(10, 10)):\n",
    "    return math.ceil(math.log2(volumeOfFilledObject / volumeOfDoubleObject)) * 5\n",
    "    \n",
    "print(\"Time it takes to fill the universe: {} minutes\".format(compute_time_to_fill()))"
   ]
  }
 ],
 "metadata": {
  "kernelspec": {
   "display_name": "Python 3",
   "language": "python",
   "name": "python3"
  },
  "language_info": {
   "codemirror_mode": {
    "name": "ipython",
    "version": 3
   },
   "file_extension": ".py",
   "mimetype": "text/x-python",
   "name": "python",
   "nbconvert_exporter": "python",
   "pygments_lexer": "ipython3",
   "version": "3.8.6"
  }
 },
 "nbformat": 4,
 "nbformat_minor": 4
}
