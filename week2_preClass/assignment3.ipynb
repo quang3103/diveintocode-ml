{
 "cells": [
  {
   "cell_type": "markdown",
   "metadata": {},
   "source": [
    "PROBLEM 1"
   ]
  },
  {
   "cell_type": "markdown",
   "metadata": {},
   "source": [
    "The result is [[6, 29, -20], [12, 52, 38], [-18, -51, -48]].\n",
    "Each new cell of the product matrix will be calculated follow the rule that: $c[i][j] = a[i][1]*b[1][j] + ... + a[i][n]*b[n][j]$.\n",
    "It is the sum of $a[i][k]*b[k][j]$ (where $k$ is from 1 to n)"
   ]
  },
  {
   "cell_type": "code",
   "execution_count": 1,
   "metadata": {},
   "outputs": [
    {
     "name": "stdout",
     "output_type": "stream",
     "text": [
      "[[  6  29 -20]\n",
      " [ 12  52  38]\n",
      " [-18 -51 -48]]\n",
      "[[  6  29 -20]\n",
      " [ 12  52  38]\n",
      " [-18 -51 -48]]\n",
      "[[  6  29 -20]\n",
      " [ 12  52  38]\n",
      " [-18 -51 -48]]\n"
     ]
    }
   ],
   "source": [
    "import numpy as np\n",
    "\n",
    "#problem 2\n",
    "a_ndarray = np.array([[-1, 2, 3], [4, -5, 6], [7, 8, -9]])\n",
    "b_ndarray = np.array([[0, 2, 1], [0, 2, -8], [2, 9, -1]])\n",
    "\n",
    "print(np.matmul(a_ndarray, b_ndarray))\n",
    "print(np.dot(a_ndarray, b_ndarray))\n",
    "print(a_ndarray @ b_ndarray)"
   ]
  },
  {
   "cell_type": "code",
   "execution_count": 2,
   "metadata": {},
   "outputs": [
    {
     "name": "stdout",
     "output_type": "stream",
     "text": [
      "[[  6  29 -20]\n",
      " [ 12  52  38]\n",
      " [-18 -51 -48]]\n"
     ]
    }
   ],
   "source": [
    "#problem 3\n",
    "a_ndarray = np.array([[-1, 2, 3], [4, -5, 6], [7, 8, -9]])\n",
    "b_ndarray = np.array([[0, 2, 1], [0, 2, -8], [2, 9, -1]])\n",
    "b_ndarray_transpose = b_ndarray.T\n",
    "result = []\n",
    "for i in range(len(a_ndarray)):\n",
    "    for j in range(len(b_ndarray)):\n",
    "        result.append(sum(a_ndarray[i] * b_ndarray_transpose[j]))\n",
    "\n",
    "result = np.array(result)\n",
    "result = result.reshape((len(a_ndarray), len(b_ndarray)))\n",
    "\n",
    "print(result)"
   ]
  },
  {
   "cell_type": "code",
   "execution_count": 3,
   "metadata": {},
   "outputs": [
    {
     "name": "stdout",
     "output_type": "stream",
     "text": [
      "[[  6  29 -20]\n",
      " [ 12  52  38]\n",
      " [-18 -51 -48]]\n"
     ]
    }
   ],
   "source": [
    "#problem 4\n",
    "\n",
    "def calculate_matrix_multiplication(a_array, b_array):\n",
    "    a_array = np.array(a_array)\n",
    "    b_array = np.array(b_array).T\n",
    "    result = []\n",
    "    for i in range(len(a_array)):\n",
    "        for j in range(len(b_array)):\n",
    "            result.append(sum(a_array[i] * b_array[j]))\n",
    "    result = np.array(result)\n",
    "    result = result.reshape((len(a_array), len(b_array)))\n",
    "    return result\n",
    "\n",
    "print(calculate_matrix_multiplication([[-1, 2, 3], [4, -5, 6], [7, 8, -9]], [[0, 2, 1], [0, 2, -8], [2, 9, -1]]))"
   ]
  },
  {
   "cell_type": "code",
   "execution_count": 4,
   "metadata": {},
   "outputs": [
    {
     "name": "stdout",
     "output_type": "stream",
     "text": [
      "Invalid input! Number of columns of matrix A is not equal to number of rows of matrix B\n",
      "None\n"
     ]
    }
   ],
   "source": [
    "#problem 5\n",
    "\n",
    "def calculate_matrix_multiplication(a_array, b_array):\n",
    "    if (len(a_array[0]) != len(b_array)):\n",
    "        print(\"Invalid input! Number of columns of matrix A is not equal to number of rows of matrix B\")\n",
    "        return     \n",
    "    a_array = np.array(a_array)\n",
    "    b_array = np.array(b_array).T\n",
    "    result = []\n",
    "    for i in range(len(a_array)):\n",
    "        for j in range(len(b_array)):\n",
    "            result.append(sum(a_array[i] * b_array[j]))\n",
    "    result = np.array(result)\n",
    "    result = result.reshape((len(a_array), len(b_array)))\n",
    "    return result\n",
    "\n",
    "print(calculate_matrix_multiplication([[-1, 2], [4, -5]], [[0, 2, 1], [0, 2, -8], [2, 9, -1]]))"
   ]
  },
  {
   "cell_type": "code",
   "execution_count": 5,
   "metadata": {},
   "outputs": [
    {
     "name": "stdout",
     "output_type": "stream",
     "text": [
      "[[  6  29 -20]\n",
      " [ 12  52  38]\n",
      " [-18 -51 -48]]\n"
     ]
    }
   ],
   "source": [
    "#problem 6\n",
    "\n",
    "a_ndarray = np.array([[-1, 2, 3], [4, -5, 6], [7, 8, -9]])\n",
    "b_ndarray = np.array([[0, 2, 1], [0, 2, -8], [2, 9, -1]])\n",
    "b_ndarray_transpose = np.transpose(b_ndarray)\n",
    "result = []\n",
    "for i in range(len(a_ndarray)):\n",
    "    for j in range(len(b_ndarray)):\n",
    "        result.append(sum(a_ndarray[i] * b_ndarray_transpose[j]))\n",
    "\n",
    "result = np.array(result)\n",
    "result = result.reshape((len(a_ndarray), len(b_ndarray)))\n",
    "\n",
    "print(result)"
   ]
  }
 ],
 "metadata": {
  "kernelspec": {
   "display_name": "Python 3",
   "language": "python",
   "name": "python3"
  },
  "language_info": {
   "codemirror_mode": {
    "name": "ipython",
    "version": 3
   },
   "file_extension": ".py",
   "mimetype": "text/x-python",
   "name": "python",
   "nbconvert_exporter": "python",
   "pygments_lexer": "ipython3",
   "version": "3.8.6"
  }
 },
 "nbformat": 4,
 "nbformat_minor": 4
}
