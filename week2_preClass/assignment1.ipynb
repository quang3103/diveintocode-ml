{
 "cells": [
  {
   "cell_type": "code",
   "execution_count": 1,
   "metadata": {},
   "outputs": [
    {
     "name": "stdout",
     "output_type": "stream",
     "text": [
      "Arrange wheat on a plate of 4 squares (list)：[1, 2, 4, 8]\n",
      "Arrange wheat on a plate of 4 squares (1d array)：[1 2 4 8]\n",
      "Arrange wheat on a plate of 4 squares (2d array)：[[1 2]\n",
      " [4 8]]\n"
     ]
    }
   ],
   "source": [
    "#problem 1\n",
    "import numpy as np\n",
    "import matplotlib.pyplot as plt\n",
    "\n",
    "n_squares = 4\n",
    "small_board_list = [1]\n",
    "for _ in range(n_squares - 1):\n",
    "    small_board_list.append(2*small_board_list[-1])\n",
    "print(\"Arrange wheat on a plate of 4 squares (list)：{}\".format(small_board_list))\n",
    "\n",
    "small_board_ndarray = np.array(small_board_list)\n",
    "print(\"Arrange wheat on a plate of 4 squares (1d array)：{}\".format(small_board_ndarray))\n",
    "\n",
    "small_board_ndarray = small_board_ndarray.reshape((2, 2))\n",
    "print(\"Arrange wheat on a plate of 4 squares (2d array)：{}\".format(small_board_ndarray))"
   ]
  },
  {
   "cell_type": "code",
   "execution_count": 2,
   "metadata": {},
   "outputs": [
    {
     "name": "stdout",
     "output_type": "stream",
     "text": [
      "The number of wheat on the 8x8 square chess board: 18446744073709551615\n"
     ]
    },
    {
     "data": {
      "text/plain": [
       "array([[1.00000000e+00, 2.00000000e+00, 4.00000000e+00, 8.00000000e+00,\n",
       "        1.60000000e+01, 3.20000000e+01, 6.40000000e+01, 1.28000000e+02],\n",
       "       [2.56000000e+02, 5.12000000e+02, 1.02400000e+03, 2.04800000e+03,\n",
       "        4.09600000e+03, 8.19200000e+03, 1.63840000e+04, 3.27680000e+04],\n",
       "       [6.55360000e+04, 1.31072000e+05, 2.62144000e+05, 5.24288000e+05,\n",
       "        1.04857600e+06, 2.09715200e+06, 4.19430400e+06, 8.38860800e+06],\n",
       "       [1.67772160e+07, 3.35544320e+07, 6.71088640e+07, 1.34217728e+08,\n",
       "        2.68435456e+08, 5.36870912e+08, 1.07374182e+09, 2.14748365e+09],\n",
       "       [4.29496730e+09, 8.58993459e+09, 1.71798692e+10, 3.43597384e+10,\n",
       "        6.87194767e+10, 1.37438953e+11, 2.74877907e+11, 5.49755814e+11],\n",
       "       [1.09951163e+12, 2.19902326e+12, 4.39804651e+12, 8.79609302e+12,\n",
       "        1.75921860e+13, 3.51843721e+13, 7.03687442e+13, 1.40737488e+14],\n",
       "       [2.81474977e+14, 5.62949953e+14, 1.12589991e+15, 2.25179981e+15,\n",
       "        4.50359963e+15, 9.00719925e+15, 1.80143985e+16, 3.60287970e+16],\n",
       "       [7.20575940e+16, 1.44115188e+17, 2.88230376e+17, 5.76460752e+17,\n",
       "        1.15292150e+18, 2.30584301e+18, 4.61168602e+18, 9.22337204e+18]])"
      ]
     },
     "execution_count": 2,
     "metadata": {},
     "output_type": "execute_result"
    }
   ],
   "source": [
    "#problem 2\n",
    "def create_ndarray(row = 8, col = 8):\n",
    "    array = [1]\n",
    "    for i in range(row * col - 1):\n",
    "        array.append(2*array[-1])\n",
    "    ndArray = np.array(array)\n",
    "    ndArray = ndArray.reshape((row, col))\n",
    "    print(\"The number of wheat on the {}x{} square chess board: {}\".format(row, col, sum(array)))\n",
    "    return ndArray\n",
    "\n",
    "create_ndarray()"
   ]
  },
  {
   "cell_type": "code",
   "execution_count": 3,
   "metadata": {},
   "outputs": [
    {
     "name": "stdout",
     "output_type": "stream",
     "text": [
      "The number of wheat on the 8x8 square chess board: 18446744073709551615\n"
     ]
    },
    {
     "data": {
      "image/png": "[encoded data removed]",
      "text/plain": [
       "<Figure size 432x288 with 1 Axes>"
      ]
     },
     "metadata": {
      "needs_background": "light"
     },
     "output_type": "display_data"
    }
   ],
   "source": [
    "%matplotlib inline\n",
    "\n",
    "ndArray = create_ndarray(8, 8)\n",
    "ndArrayTranspose = ndArray.T\n",
    "totalColumn = list()\n",
    "for i in range(8):\n",
    "    totalColumn.append(sum(ndArrayTranspose[i]))\n",
    "\n",
    "plt.xlabel(\"column\")\n",
    "plt.ylabel(\"number\")\n",
    "plt.title(\"number in each column\")\n",
    "plt.bar(np.arange(1,9), np.array(totalColumn))\n",
    "plt.show()\n"
   ]
  },
  {
   "cell_type": "code",
   "execution_count": 4,
   "metadata": {},
   "outputs": [
    {
     "name": "stdout",
     "output_type": "stream",
     "text": [
      "The number of wheat on the 8x8 square chess board: 18446744073709551615\n"
     ]
    },
    {
     "data": {
      "image/png": "[encoded data removed]",
      "text/plain": [
       "<Figure size 432x288 with 1 Axes>"
      ]
     },
     "metadata": {
      "needs_background": "light"
     },
     "output_type": "display_data"
    }
   ],
   "source": [
    "%matplotlib inline\n",
    "\n",
    "plt.xlabel(\"column\")\n",
    "plt.ylabel(\"row\")\n",
    "plt.title(\"heatmap\")\n",
    "plt.pcolor(create_ndarray(8, 8))\n",
    "plt.show()"
   ]
  },
  {
   "cell_type": "code",
   "execution_count": 5,
   "metadata": {
    "scrolled": true
   },
   "outputs": [
    {
     "name": "stdout",
     "output_type": "stream",
     "text": [
      "The number of wheat on the 8x8 square chess board: 18446744073709551615\n",
      "The second half is greater than the first half 4294967296.0 tímes\n"
     ]
    }
   ],
   "source": [
    "ndArray = create_ndarray(8, 8)\n",
    "n = sum([sum(ndArray[i]) for i in range(4,8)]) / sum([sum(ndArray[i]) for i in range(4)])\n",
    "print(\"The second half is greater than the first half\", n, \"tímes\")"
   ]
  },
  {
   "cell_type": "code",
   "execution_count": 6,
   "metadata": {},
   "outputs": [
    {
     "name": "stdout",
     "output_type": "stream",
     "text": [
      "[5 6 7]\n",
      "[5 6 7]\n"
     ]
    }
   ],
   "source": [
    "import numpy as np\n",
    "a = np.array([0,1,2])\n",
    "#When not using broadcast\n",
    "b = np.array([5,5,5])\n",
    "print(a + b)  # Out: [5,6,7]\n",
    "\n",
    "#When using broadcast\n",
    "print(a + 5)  # Out: [5,6,7] * 5 is automatically converted to the matrix of (1,3) ([5,5,5])"
   ]
  },
  {
   "cell_type": "code",
   "execution_count": 7,
   "metadata": {},
   "outputs": [
    {
     "name": "stdout",
     "output_type": "stream",
     "text": [
      "1.8446744073709552e+19\n"
     ]
    }
   ],
   "source": [
    "def create_ndarray_npAppend(row = 8, col = 8):\n",
    "    n_squares = 64\n",
    "    board_ndarray = np.array([1]).astype(np.uint64)\n",
    "    for _ in range(n_squares - 1):\n",
    "        board_ndarray = np.append(board_ndarray, 2*board_ndarray[-1])\n",
    "    return board_ndarray.reshape(row, col)\n",
    "\n",
    "ndArray = create_ndarray_npAppend(8, 8)\n",
    "print(sum([sum(ndArray[i]) for i in range(8)]))"
   ]
  },
  {
   "cell_type": "code",
   "execution_count": 8,
   "metadata": {},
   "outputs": [
    {
     "name": "stdout",
     "output_type": "stream",
     "text": [
      "2.23 µs ± 25.7 ns per loop (mean ± std. dev. of 7 runs, 100000 loops each)\n"
     ]
    }
   ],
   "source": [
    "%%timeit\n",
    "a = np.array([1, 2, 3])\n",
    "b = np.array([1, 2, 3])\n",
    "c = a + b"
   ]
  }
 ],
 "metadata": {
  "kernelspec": {
   "display_name": "Python 3",
   "language": "python",
   "name": "python3"
  },
  "language_info": {
   "codemirror_mode": {
    "name": "ipython",
    "version": 3
   },
   "file_extension": ".py",
   "mimetype": "text/x-python",
   "name": "python",
   "nbconvert_exporter": "python",
   "pygments_lexer": "ipython3",
   "version": "3.8.6"
  }
 },
 "nbformat": 4,
 "nbformat_minor": 4
}
