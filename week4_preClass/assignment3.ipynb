{
 "cells": [
  {
   "cell_type": "code",
   "execution_count": 1,
   "metadata": {},
   "outputs": [
    {
     "name": "stdout",
     "output_type": "stream",
     "text": [
      "Mean : [4.86 3.31 1.45 0.22]\n",
      "Variance : [0.0764 0.0849 0.0105 0.0056]\n",
      "X standard:  [[ 0.86828953  0.65207831 -0.48795004 -0.26726124]\n",
      " [ 0.14471492 -1.06391725 -0.48795004 -0.26726124]\n",
      " [-0.57885968 -0.37751902 -1.46385011 -0.26726124]\n",
      " [-0.94064699 -0.72071813  0.48795004 -0.26726124]\n",
      " [ 0.50650222  0.99527742 -0.48795004 -0.26726124]\n",
      " [ 1.95365143  2.02487476  2.43975018  2.40535118]\n",
      " [-0.94064699  0.3088792  -0.48795004  1.06904497]\n",
      " [ 0.50650222  0.3088792   0.48795004 -0.26726124]\n",
      " [-1.66422159 -1.40711636 -0.48795004 -0.26726124]\n",
      " [ 0.14471492 -0.72071813  0.48795004 -1.60356745]]\n"
     ]
    }
   ],
   "source": [
    "import numpy as np\n",
    "from sklearn.preprocessing import StandardScaler\n",
    "from sklearn.datasets import load_iris\n",
    "data = load_iris()\n",
    "X = data.data[:10]\n",
    "scaler = StandardScaler()\n",
    "scaler.fit(X)\n",
    "print(\"Mean :\", scaler.mean_)\n",
    "print(\"Variance :\", scaler.var_)\n",
    "X_std = scaler.transform(X)\n",
    "print(\"X standard: \", X_std)"
   ]
  },
  {
   "cell_type": "markdown",
   "metadata": {},
   "source": [
    "# PROBLEM 1: Enumeration of classes used so far"
   ]
  },
  {
   "cell_type": "markdown",
   "metadata": {},
   "source": [
    "I find out some classes that i use for the previous assignments that are \"LinearRegression\", \"ListedColormap\", \"DecisionTreeClassifier\", \"RandomForestClassifier\", \"KNeighborsClassifier\", \"LogisticRegression\"."
   ]
  },
  {
   "cell_type": "markdown",
   "metadata": {},
   "source": [
    "From pandas we have some classes like \"DataFrame\", \"Series\", \"GroupBy\", \"Plotting\". From matplotlib, we get \"Figure\", \"Axes\"."
   ]
  },
  {
   "cell_type": "markdown",
   "metadata": {},
   "source": [
    "# PROBLEM 2: Enumeration of methods and instance variables used so far"
   ]
  },
  {
   "cell_type": "markdown",
   "metadata": {},
   "source": [
    "- Some methods that I used for the previous assignment: \"train_test_split\", \"fit_transform\", \"predict\", \"mean_squared_error\", \"fit\".\n",
    "- Some attribute I made use of from the previous assignment: \"shape\", \"target\", \"data\", \"columns\", \"index\""
   ]
  },
  {
   "cell_type": "markdown",
   "metadata": {},
   "source": [
    "# PROBLEM 3: Creating a standardized class by scratch"
   ]
  },
  {
   "cell_type": "code",
   "execution_count": 2,
   "metadata": {},
   "outputs": [],
   "source": [
    "class ScratchStandardScaler():\n",
    "    \"\"\"\n",
    "    Attributes\n",
    "    ----------\n",
    "    mean_ : ndarray, shape(n_features,)\n",
    "    var_ : ndarray, shape(n_features,)\n",
    "    \"\"\"\n",
    "    def fit(self, X):\n",
    "        \"\"\"\n",
    "        Parameters\n",
    "        ----------\n",
    "        X : ndarray, shape (n_samples, n_features)\n",
    "        \"\"\"\n",
    "        self.mean_ = np.mean(X, axis=0)\n",
    "        self.var_ = np.var(X, axis=0)\n",
    "        pass\n",
    "    def transform(self, X):\n",
    "        \"\"\"\n",
    "        fit\n",
    "        Parameters\n",
    "        ----------\n",
    "        X : ndarray, shape (n_samples, n_features)\n",
    "        Returns\n",
    "        ----------\n",
    "        X_scaled : ndarray, shape (n_samples, n_features)\n",
    "        \"\"\"\n",
    "        X_scaled = (X - self.mean_) / np.sqrt(self.var_)\n",
    "        return X_scaled"
   ]
  },
  {
   "cell_type": "code",
   "execution_count": 3,
   "metadata": {},
   "outputs": [
    {
     "name": "stdout",
     "output_type": "stream",
     "text": [
      "Mean : [4.86 3.31 1.45 0.22]\n",
      "Variance : [0.0764 0.0849 0.0105 0.0056]\n",
      "X standard:  [[ 0.86828953  0.65207831 -0.48795004 -0.26726124]\n",
      " [ 0.14471492 -1.06391725 -0.48795004 -0.26726124]\n",
      " [-0.57885968 -0.37751902 -1.46385011 -0.26726124]\n",
      " [-0.94064699 -0.72071813  0.48795004 -0.26726124]\n",
      " [ 0.50650222  0.99527742 -0.48795004 -0.26726124]\n",
      " [ 1.95365143  2.02487476  2.43975018  2.40535118]\n",
      " [-0.94064699  0.3088792  -0.48795004  1.06904497]\n",
      " [ 0.50650222  0.3088792   0.48795004 -0.26726124]\n",
      " [-1.66422159 -1.40711636 -0.48795004 -0.26726124]\n",
      " [ 0.14471492 -0.72071813  0.48795004 -1.60356745]]\n"
     ]
    }
   ],
   "source": [
    "scaler1 = ScratchStandardScaler()\n",
    "scaler1.fit(X)\n",
    "print(\"Mean :\", scaler1.mean_)\n",
    "print(\"Variance :\", scaler1.var_)\n",
    "X_std_1 = scaler1.transform(X)\n",
    "print(\"X standard: \", X_std_1)"
   ]
  },
  {
   "cell_type": "markdown",
   "metadata": {},
   "source": [
    "# PROBLEM 4: Creating a class that performs 4 arithmetic operations"
   ]
  },
  {
   "cell_type": "code",
   "execution_count": 4,
   "metadata": {},
   "outputs": [],
   "source": [
    "class Calculator():\n",
    "    def __init__(self, value):\n",
    "        if not isinstance(value, (int, float, complex)):\n",
    "            print('Cannot process value that is not numeric type!')\n",
    "            return\n",
    "        self.value = value\n",
    "            \n",
    "    def add(self, value1):\n",
    "        if not isinstance(value1, (int, float, complex)):\n",
    "            print('Cannot process value that is not numeric type!')\n",
    "            return\n",
    "        self.value += value1\n",
    "            \n",
    "    def substract(self, value1):\n",
    "        if not isinstance(value1, (int, float, complex)):\n",
    "            print('Cannot process value that is not numeric type!')\n",
    "            return\n",
    "        self.value -= value1\n",
    "            \n",
    "    def multiply(self, value1):\n",
    "        if not isinstance(value1, (int, float, complex)):\n",
    "            print('Cannot process value that is not numeric type!')\n",
    "            return\n",
    "        self.value *= value1\n",
    "    def divide(self, value1):\n",
    "        if not isinstance(value1, (int, float, complex)):\n",
    "            print('Cannot process value that is not numeric type!')\n",
    "            return\n",
    "        if value1 == 0:\n",
    "            print(\"Division by zero!\")\n",
    "            return\n",
    "        self.value /= value1"
   ]
  },
  {
   "cell_type": "code",
   "execution_count": 5,
   "metadata": {},
   "outputs": [
    {
     "name": "stdout",
     "output_type": "stream",
     "text": [
      "Cannot process value that is not numeric type!\n",
      "Value: 15\n",
      "Value: 10\n",
      "Value: 50\n",
      "Division by zero!\n",
      "Value: 50\n",
      "Value: 16.666666666666668\n"
     ]
    }
   ],
   "source": [
    "myCalculator = Calculator(10)\n",
    "myCalculator.add('5')\n",
    "myCalculator.add(5)\n",
    "print('Value:', myCalculator.value)\n",
    "myCalculator.substract(5)\n",
    "print('Value:', myCalculator.value)\n",
    "myCalculator.multiply(5)\n",
    "print('Value:', myCalculator.value)\n",
    "myCalculator.divide(0)\n",
    "print('Value:', myCalculator.value)\n",
    "myCalculator.divide(3)\n",
    "print('Value:', myCalculator.value)"
   ]
  },
  {
   "cell_type": "code",
   "execution_count": null,
   "metadata": {},
   "outputs": [],
   "source": []
  }
 ],
 "metadata": {
  "kernelspec": {
   "display_name": "Python 3",
   "language": "python",
   "name": "python3"
  },
  "language_info": {
   "codemirror_mode": {
    "name": "ipython",
    "version": 3
   },
   "file_extension": ".py",
   "mimetype": "text/x-python",
   "name": "python",
   "nbconvert_exporter": "python",
   "pygments_lexer": "ipython3",
   "version": "3.8.6"
  }
 },
 "nbformat": 4,
 "nbformat_minor": 4
}
