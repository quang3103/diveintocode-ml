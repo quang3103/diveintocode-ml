{
 "cells": [
  {
   "cell_type": "code",
   "execution_count": 1,
   "metadata": {},
   "outputs": [],
   "source": [
    "import numpy as np\n",
    "import pandas as pd\n",
    "from sklearn.datasets import load_iris\n",
    "from matplotlib import pyplot as plt\n",
    "import seaborn as sns\n",
    "from sklearn.model_selection import train_test_split\n",
    "from matplotlib.colors import ListedColormap\n",
    "import matplotlib.patches as mpatches\n",
    "%matplotlib inline"
   ]
  },
  {
   "cell_type": "markdown",
   "metadata": {},
   "source": [
    "# PROBLEM 1: Select features and categories for practice"
   ]
  },
  {
   "cell_type": "code",
   "execution_count": 2,
   "metadata": {},
   "outputs": [
    {
     "name": "stdout",
     "output_type": "stream",
     "text": [
      "['setosa' 'versicolor' 'virginica']\n"
     ]
    }
   ],
   "source": [
    "data = load_iris()\n",
    "print(data.target_names)\n",
    "x = pd.DataFrame(data.data, columns = ['sepal_length', 'sepal_width', 'petal_length', 'petal_width'])\n",
    "y = pd.DataFrame(data.target, columns = ['Species'])\n",
    "df = pd.concat([x, y], axis=1)"
   ]
  },
  {
   "cell_type": "code",
   "execution_count": 3,
   "metadata": {},
   "outputs": [
    {
     "name": "stdout",
     "output_type": "stream",
     "text": [
      "(150, 5)\n",
      "     sepal_length  sepal_width  petal_length  petal_width  Species\n",
      "0             5.1          3.5           1.4          0.2        0\n",
      "1             4.9          3.0           1.4          0.2        0\n",
      "2             4.7          3.2           1.3          0.2        0\n",
      "3             4.6          3.1           1.5          0.2        0\n",
      "4             5.0          3.6           1.4          0.2        0\n",
      "..            ...          ...           ...          ...      ...\n",
      "145           6.7          3.0           5.2          2.3        2\n",
      "146           6.3          2.5           5.0          1.9        2\n",
      "147           6.5          3.0           5.2          2.0        2\n",
      "148           6.2          3.4           5.4          2.3        2\n",
      "149           5.9          3.0           5.1          1.8        2\n",
      "\n",
      "[150 rows x 5 columns]\n"
     ]
    }
   ],
   "source": [
    "print(df.shape)\n",
    "print(df)"
   ]
  },
  {
   "cell_type": "code",
   "execution_count": 4,
   "metadata": {},
   "outputs": [
    {
     "data": {
      "text/html": [
       "<div>\n",
       "<style scoped>\n",
       "    .dataframe tbody tr th:only-of-type {\n",
       "        vertical-align: middle;\n",
       "    }\n",
       "\n",
       "    .dataframe tbody tr th {\n",
       "        vertical-align: top;\n",
       "    }\n",
       "\n",
       "    .dataframe thead th {\n",
       "        text-align: right;\n",
       "    }\n",
       "</style>\n",
       "<table border=\"1\" class=\"dataframe\">\n",
       "  <thead>\n",
       "    <tr style=\"text-align: right;\">\n",
       "      <th></th>\n",
       "      <th>sepal_length</th>\n",
       "      <th>petal_length</th>\n",
       "    </tr>\n",
       "  </thead>\n",
       "  <tbody>\n",
       "    <tr>\n",
       "      <th>0</th>\n",
       "      <td>5.1</td>\n",
       "      <td>1.4</td>\n",
       "    </tr>\n",
       "    <tr>\n",
       "      <th>1</th>\n",
       "      <td>4.9</td>\n",
       "      <td>1.4</td>\n",
       "    </tr>\n",
       "    <tr>\n",
       "      <th>2</th>\n",
       "      <td>4.7</td>\n",
       "      <td>1.3</td>\n",
       "    </tr>\n",
       "    <tr>\n",
       "      <th>3</th>\n",
       "      <td>4.6</td>\n",
       "      <td>1.5</td>\n",
       "    </tr>\n",
       "    <tr>\n",
       "      <th>4</th>\n",
       "      <td>5.0</td>\n",
       "      <td>1.4</td>\n",
       "    </tr>\n",
       "    <tr>\n",
       "      <th>...</th>\n",
       "      <td>...</td>\n",
       "      <td>...</td>\n",
       "    </tr>\n",
       "    <tr>\n",
       "      <th>145</th>\n",
       "      <td>6.7</td>\n",
       "      <td>5.2</td>\n",
       "    </tr>\n",
       "    <tr>\n",
       "      <th>146</th>\n",
       "      <td>6.3</td>\n",
       "      <td>5.0</td>\n",
       "    </tr>\n",
       "    <tr>\n",
       "      <th>147</th>\n",
       "      <td>6.5</td>\n",
       "      <td>5.2</td>\n",
       "    </tr>\n",
       "    <tr>\n",
       "      <th>148</th>\n",
       "      <td>6.2</td>\n",
       "      <td>5.4</td>\n",
       "    </tr>\n",
       "    <tr>\n",
       "      <th>149</th>\n",
       "      <td>5.9</td>\n",
       "      <td>5.1</td>\n",
       "    </tr>\n",
       "  </tbody>\n",
       "</table>\n",
       "<p>150 rows × 2 columns</p>\n",
       "</div>"
      ],
      "text/plain": [
       "     sepal_length  petal_length\n",
       "0             5.1           1.4\n",
       "1             4.9           1.4\n",
       "2             4.7           1.3\n",
       "3             4.6           1.5\n",
       "4             5.0           1.4\n",
       "..            ...           ...\n",
       "145           6.7           5.2\n",
       "146           6.3           5.0\n",
       "147           6.5           5.2\n",
       "148           6.2           5.4\n",
       "149           5.9           5.1\n",
       "\n",
       "[150 rows x 2 columns]"
      ]
     },
     "execution_count": 4,
     "metadata": {},
     "output_type": "execute_result"
    }
   ],
   "source": [
    "df[['sepal_length', 'petal_length']]"
   ]
  },
  {
   "cell_type": "code",
   "execution_count": 5,
   "metadata": {},
   "outputs": [],
   "source": [
    "p1 = df[~(df['Species'] == 0)][['sepal_length', 'petal_length', 'Species']] "
   ]
  },
  {
   "cell_type": "code",
   "execution_count": 6,
   "metadata": {},
   "outputs": [
    {
     "data": {
      "text/plain": [
       "(100, 3)"
      ]
     },
     "execution_count": 6,
     "metadata": {},
     "output_type": "execute_result"
    }
   ],
   "source": [
    "p1.shape"
   ]
  },
  {
   "cell_type": "code",
   "execution_count": 7,
   "metadata": {},
   "outputs": [
    {
     "name": "stdout",
     "output_type": "stream",
     "text": [
      "<class 'pandas.core.frame.DataFrame'>\n",
      "Int64Index: 100 entries, 50 to 149\n",
      "Data columns (total 3 columns):\n",
      " #   Column        Non-Null Count  Dtype  \n",
      "---  ------        --------------  -----  \n",
      " 0   sepal_length  100 non-null    float64\n",
      " 1   petal_length  100 non-null    float64\n",
      " 2   Species       100 non-null    int32  \n",
      "dtypes: float64(2), int32(1)\n",
      "memory usage: 2.7 KB\n"
     ]
    }
   ],
   "source": [
    "p1.info()"
   ]
  },
  {
   "cell_type": "code",
   "execution_count": 8,
   "metadata": {},
   "outputs": [
    {
     "data": {
      "text/html": [
       "<div>\n",
       "<style scoped>\n",
       "    .dataframe tbody tr th:only-of-type {\n",
       "        vertical-align: middle;\n",
       "    }\n",
       "\n",
       "    .dataframe tbody tr th {\n",
       "        vertical-align: top;\n",
       "    }\n",
       "\n",
       "    .dataframe thead th {\n",
       "        text-align: right;\n",
       "    }\n",
       "</style>\n",
       "<table border=\"1\" class=\"dataframe\">\n",
       "  <thead>\n",
       "    <tr style=\"text-align: right;\">\n",
       "      <th></th>\n",
       "      <th>sepal_length</th>\n",
       "      <th>petal_length</th>\n",
       "      <th>Species</th>\n",
       "    </tr>\n",
       "  </thead>\n",
       "  <tbody>\n",
       "    <tr>\n",
       "      <th>count</th>\n",
       "      <td>100.000000</td>\n",
       "      <td>100.000000</td>\n",
       "      <td>100.000000</td>\n",
       "    </tr>\n",
       "    <tr>\n",
       "      <th>mean</th>\n",
       "      <td>6.262000</td>\n",
       "      <td>4.906000</td>\n",
       "      <td>1.500000</td>\n",
       "    </tr>\n",
       "    <tr>\n",
       "      <th>std</th>\n",
       "      <td>0.662834</td>\n",
       "      <td>0.825578</td>\n",
       "      <td>0.502519</td>\n",
       "    </tr>\n",
       "    <tr>\n",
       "      <th>min</th>\n",
       "      <td>4.900000</td>\n",
       "      <td>3.000000</td>\n",
       "      <td>1.000000</td>\n",
       "    </tr>\n",
       "    <tr>\n",
       "      <th>25%</th>\n",
       "      <td>5.800000</td>\n",
       "      <td>4.375000</td>\n",
       "      <td>1.000000</td>\n",
       "    </tr>\n",
       "    <tr>\n",
       "      <th>50%</th>\n",
       "      <td>6.300000</td>\n",
       "      <td>4.900000</td>\n",
       "      <td>1.500000</td>\n",
       "    </tr>\n",
       "    <tr>\n",
       "      <th>75%</th>\n",
       "      <td>6.700000</td>\n",
       "      <td>5.525000</td>\n",
       "      <td>2.000000</td>\n",
       "    </tr>\n",
       "    <tr>\n",
       "      <th>max</th>\n",
       "      <td>7.900000</td>\n",
       "      <td>6.900000</td>\n",
       "      <td>2.000000</td>\n",
       "    </tr>\n",
       "  </tbody>\n",
       "</table>\n",
       "</div>"
      ],
      "text/plain": [
       "       sepal_length  petal_length     Species\n",
       "count    100.000000    100.000000  100.000000\n",
       "mean       6.262000      4.906000    1.500000\n",
       "std        0.662834      0.825578    0.502519\n",
       "min        4.900000      3.000000    1.000000\n",
       "25%        5.800000      4.375000    1.000000\n",
       "50%        6.300000      4.900000    1.500000\n",
       "75%        6.700000      5.525000    2.000000\n",
       "max        7.900000      6.900000    2.000000"
      ]
     },
     "execution_count": 8,
     "metadata": {},
     "output_type": "execute_result"
    }
   ],
   "source": [
    "p1.describe()"
   ]
  },
  {
   "cell_type": "code",
   "execution_count": 9,
   "metadata": {},
   "outputs": [
    {
     "data": {
      "text/plain": [
       "sepal_length    0\n",
       "petal_length    0\n",
       "Species         0\n",
       "dtype: int64"
      ]
     },
     "execution_count": 9,
     "metadata": {},
     "output_type": "execute_result"
    }
   ],
   "source": [
    "p1.isnull().sum()"
   ]
  },
  {
   "cell_type": "markdown",
   "metadata": {},
   "source": [
    "# PROBLEM 2: Data analysis"
   ]
  },
  {
   "cell_type": "code",
   "execution_count": 10,
   "metadata": {},
   "outputs": [
    {
     "data": {
      "image/png": "[encoded data removed]",
      "text/plain": [
       "<Figure size 432x288 with 1 Axes>"
      ]
     },
     "metadata": {
      "needs_background": "light"
     },
     "output_type": "display_data"
    }
   ],
   "source": [
    "plt.scatter(df[\"sepal_length\"][df[\"Species\"] == 1], df[\"petal_length\"][df[\"Species\"] == 1], label = \"virgicolor\")\n",
    "plt.scatter(df[\"sepal_length\"][df[\"Species\"] == 2], df[\"petal_length\"][df[\"Species\"] == 2], label = \"virginica\")\n",
    "plt.title(\"scatter plot of the extracted data\")\n",
    "plt.xlabel(\"sepal_length\")\n",
    "plt.ylabel(\"petal_length\")\n",
    "plt.legend()\n",
    "plt.show()"
   ]
  },
  {
   "cell_type": "code",
   "execution_count": 11,
   "metadata": {},
   "outputs": [
    {
     "data": {
      "image/png": "[encoded data removed]",
      "text/plain": [
       "<Figure size 432x288 with 1 Axes>"
      ]
     },
     "metadata": {
      "needs_background": "light"
     },
     "output_type": "display_data"
    }
   ],
   "source": [
    "plt.boxplot([df[df['Species']==1]['sepal_length'],\n",
    "                          df[df[\"Species\"]==2]['sepal_length']])\n",
    "plt.xticks([1,2] , data.target_names[1:])\n",
    "plt.title(\"Boxplot of the extracted data {}\".format('sepal_length'))\n",
    "plt.xlabel(\"Species\")\n",
    "plt.ylabel(\"[cm]\")\n",
    "plt.show()"
   ]
  },
  {
   "cell_type": "code",
   "execution_count": 12,
   "metadata": {},
   "outputs": [
    {
     "data": {
      "image/png": "[encoded data removed]",
      "text/plain": [
       "<Figure size 432x288 with 1 Axes>"
      ]
     },
     "metadata": {
      "needs_background": "light"
     },
     "output_type": "display_data"
    }
   ],
   "source": [
    "plt.boxplot([df[df['Species']==1]['petal_length'],\n",
    "                          df[df[\"Species\"]==2]['petal_length']])\n",
    "plt.xticks([1,2] , data.target_names[1:])\n",
    "plt.title(\"Boxplot of the extracted data {}\".format('petal_length'))\n",
    "plt.xlabel(\"Species\")\n",
    "plt.ylabel(\"[cm]\")\n",
    "plt.show()"
   ]
  },
  {
   "cell_type": "code",
   "execution_count": 13,
   "metadata": {},
   "outputs": [
    {
     "data": {
      "image/png": "[encoded data removed]",
      "text/plain": [
       "<Figure size 432x288 with 1 Axes>"
      ]
     },
     "metadata": {
      "needs_background": "light"
     },
     "output_type": "display_data"
    }
   ],
   "source": [
    "plt.violinplot([df[df[\"Species\"]==1]['sepal_length'],\n",
    "                             df[df[\"Species\"]==2]['sepal_length']])\n",
    "plt.xticks([1,2] , data.target_names[1:])\n",
    "plt.title(\"violinplot of the extracted data {}\".format('sepal_length'))\n",
    "plt.xlabel(\"Species\")\n",
    "plt.ylabel(\"[cm]\")\n",
    "plt.show()"
   ]
  },
  {
   "cell_type": "code",
   "execution_count": 14,
   "metadata": {},
   "outputs": [
    {
     "data": {
      "image/png": "[encoded data removed]",
      "text/plain": [
       "<Figure size 432x288 with 1 Axes>"
      ]
     },
     "metadata": {
      "needs_background": "light"
     },
     "output_type": "display_data"
    }
   ],
   "source": [
    "plt.violinplot([df[df[\"Species\"]==1]['petal_length'],\n",
    "                             df[df[\"Species\"]==2]['petal_length']])\n",
    "plt.xticks([1,2] , data.target_names[1:])\n",
    "plt.title(\"violinplot of the extracted data {}\".format('petal_length'))\n",
    "plt.xlabel(\"Species\")\n",
    "plt.ylabel(\"[cm]\")\n",
    "plt.show()"
   ]
  },
  {
   "cell_type": "markdown",
   "metadata": {},
   "source": [
    "# PROBLEM 3: Division of preprocessing/training data and verification data"
   ]
  },
  {
   "cell_type": "code",
   "execution_count": 16,
   "metadata": {},
   "outputs": [
    {
     "name": "stdout",
     "output_type": "stream",
     "text": [
      "x train \n",
      "(75, 2)\n",
      "     sepal_length  petal_length\n",
      "65            6.7           4.4\n",
      "90            5.5           4.4\n",
      "146           6.3           5.0\n",
      "59            5.2           3.9\n",
      "122           7.7           6.7\n",
      "..            ...           ...\n",
      "110           6.5           5.1\n",
      "121           5.6           4.9\n",
      "64            5.6           3.6\n",
      "142           5.8           5.1\n",
      "101           5.8           5.1\n",
      "\n",
      "[75 rows x 2 columns]\n",
      "\n",
      "y train \n",
      "(75,)\n",
      "65     1\n",
      "90     1\n",
      "146    2\n",
      "59     1\n",
      "122    2\n",
      "      ..\n",
      "110    2\n",
      "121    2\n",
      "64     1\n",
      "142    2\n",
      "101    2\n",
      "Name: Species, Length: 75, dtype: int32\n",
      "\n",
      "x test \n",
      "(25, 2)\n",
      "     sepal_length  petal_length\n",
      "133           6.3           5.1\n",
      "103           6.3           5.6\n",
      "120           6.9           5.7\n",
      "95            5.7           4.2\n",
      "94            5.6           4.2\n",
      "89            5.5           4.0\n",
      "72            6.3           4.9\n",
      "130           7.4           6.1\n",
      "60            5.0           3.5\n",
      "50            7.0           4.7\n",
      "68            6.2           4.5\n",
      "80            5.5           3.8\n",
      "123           6.3           4.9\n",
      "83            6.0           5.1\n",
      "140           6.7           5.6\n",
      "54            6.5           4.6\n",
      "126           6.2           4.8\n",
      "127           6.1           4.9\n",
      "62            6.0           4.0\n",
      "81            5.5           3.7\n",
      "105           7.6           6.6\n",
      "138           6.0           4.8\n",
      "76            6.8           4.8\n",
      "92            5.8           4.0\n",
      "119           6.0           5.0\n",
      "\n",
      "y test \n",
      "(25,)\n",
      "133    2\n",
      "103    2\n",
      "120    2\n",
      "95     1\n",
      "94     1\n",
      "89     1\n",
      "72     1\n",
      "130    2\n",
      "60     1\n",
      "50     1\n",
      "68     1\n",
      "80     1\n",
      "123    2\n",
      "83     1\n",
      "140    2\n",
      "54     1\n",
      "126    2\n",
      "127    2\n",
      "62     1\n",
      "81     1\n",
      "105    2\n",
      "138    2\n",
      "76     1\n",
      "92     1\n",
      "119    2\n",
      "Name: Species, dtype: int32\n",
      "\n"
     ]
    }
   ],
   "source": [
    "x = p1.iloc[:, [0,1]]\n",
    "y = p1.iloc[:, 2]\n",
    "\n",
    "x_train , x_test , y_train , y_test = train_test_split(x , y , test_size = 0.25, random_state=42)\n",
    "\n",
    "print(\"x train \\n{}\\n{}\\n\".format(x_train.shape,x_train))\n",
    "\n",
    "print(\"y train \\n{}\\n{}\\n\".format(y_train.shape,y_train))\n",
    "\n",
    "print(\"x test \\n{}\\n{}\\n\".format(x_test.shape,x_test))\n",
    "\n",
    "print(\"y test \\n{}\\n{}\\n\".format(y_test.shape,y_test))"
   ]
  },
  {
   "cell_type": "markdown",
   "metadata": {},
   "source": [
    "# PROBLEM 4: Pretreatment/Standardization"
   ]
  },
  {
   "cell_type": "code",
   "execution_count": 17,
   "metadata": {},
   "outputs": [
    {
     "name": "stdout",
     "output_type": "stream",
     "text": [
      "X train after StandardScaler Transform \n",
      "[[ 0.62124015 -0.65893772]\n",
      " [-1.15373171 -0.65893772]\n",
      " [ 0.02958286  0.05557306]\n",
      " [-1.59747467 -1.25436337]\n",
      " [ 2.10038336  2.08002027]\n",
      " [-0.56207442 -0.89710798]\n",
      " [-0.11833146 -0.77802285]\n",
      " [ 2.10038336  1.36550949]\n",
      " [-0.4141601  -0.53985259]\n",
      " [ 0.76915447  1.12733923]\n",
      " [-0.85790306 -0.53985259]\n",
      " [ 0.32541151  0.65099871]\n",
      " [ 0.17749719  0.41282845]\n",
      " [-0.4141601  -0.53985259]\n",
      " [-1.00581738 -0.53985259]\n",
      " [-0.85790306 -1.01619311]\n",
      " [-1.30164603 -0.53985259]\n",
      " [-2.04121763 -1.96887414]\n",
      " [ 0.62124015  0.29374332]\n",
      " [ 0.62124015  0.05557306]\n",
      " [-1.00581738 -1.25436337]\n",
      " [ 2.396212    1.72276488]\n",
      " [ 0.47332583 -0.65893772]\n",
      " [ 0.76915447  0.65099871]\n",
      " [-0.26624578 -0.30168233]\n",
      " [ 0.17749719 -0.77802285]\n",
      " [-1.15373171 -1.13527824]\n",
      " [-0.70998874 -1.01619311]\n",
      " [-1.00581738 -1.01619311]\n",
      " [ 0.47332583 -0.42076746]\n",
      " [ 0.17749719  0.77008384]\n",
      " [ 0.02958286 -0.30168233]\n",
      " [-0.70998874  0.17465819]\n",
      " [ 0.62124015 -0.30168233]\n",
      " [ 0.91706879  0.53191358]\n",
      " [-2.04121763 -0.53985259]\n",
      " [-0.56207442  0.17465819]\n",
      " [ 0.32541151  1.0082541 ]\n",
      " [-1.89330331 -1.96887414]\n",
      " [ 0.02958286  1.24642436]\n",
      " [ 2.10038336  2.08002027]\n",
      " [-0.85790306 -0.89710798]\n",
      " [ 2.10038336  2.31819053]\n",
      " [ 0.17749719  0.41282845]\n",
      " [ 0.32541151  0.29374332]\n",
      " [ 1.36081176  1.0082541 ]\n",
      " [-0.26624578 -0.42076746]\n",
      " [ 0.62124015  1.0082541 ]\n",
      " [-1.74538899 -2.32612953]\n",
      " [-0.11833146  0.53191358]\n",
      " [ 1.50872608  1.60367975]\n",
      " [ 1.36081176  1.24642436]\n",
      " [-0.70998874 -1.25436337]\n",
      " [ 0.62124015  0.88916897]\n",
      " [ 1.36081176  1.36550949]\n",
      " [-0.85790306  0.05557306]\n",
      " [-0.26624578  0.77008384]\n",
      " [ 0.02958286 -0.65893772]\n",
      " [-0.85790306 -1.73070389]\n",
      " [ 0.17749719 -0.53985259]\n",
      " [ 1.21289743  1.12733923]\n",
      " [-0.26624578 -1.13527824]\n",
      " [ 0.91706879 -0.06351207]\n",
      " [-0.26624578 -0.30168233]\n",
      " [ 0.17749719  0.65099871]\n",
      " [ 0.91706879  0.17465819]\n",
      " [ 0.62124015  0.88916897]\n",
      " [ 0.02958286  0.77008384]\n",
      " [ 0.17749719  0.77008384]\n",
      " [-0.56207442 -0.1825972 ]\n",
      " [ 0.32541151  0.17465819]\n",
      " [-1.00581738 -0.06351207]\n",
      " [-1.00581738 -1.61161876]\n",
      " [-0.70998874  0.17465819]\n",
      " [-0.70998874  0.17465819]]\n",
      "\n",
      "X test after StandardScaler Transform \n",
      "[[ 0.15233458  0.45032609]\n",
      " [ 0.15233458  1.12045419]\n",
      " [ 1.145821    1.25447982]\n",
      " [-0.84115184 -0.7559045 ]\n",
      " [-1.00673291 -0.7559045 ]\n",
      " [-1.17231398 -1.02395575]\n",
      " [ 0.15233458  0.18227484]\n",
      " [ 1.97372635  1.7905823 ]\n",
      " [-2.00021932 -1.69408385]\n",
      " [ 1.31140207 -0.0857764 ]\n",
      " [-0.01324649 -0.35382764]\n",
      " [-1.17231398 -1.29200699]\n",
      " [ 0.15233458  0.18227484]\n",
      " [-0.34440863  0.45032609]\n",
      " [ 0.81465886  1.12045419]\n",
      " [ 0.48349672 -0.21980202]\n",
      " [-0.01324649  0.04824922]\n",
      " [-0.17882756  0.18227484]\n",
      " [-0.34440863 -1.02395575]\n",
      " [-1.17231398 -1.42603261]\n",
      " [ 2.30488849  2.46071041]\n",
      " [-0.34440863  0.04824922]\n",
      " [ 0.98023993  0.04824922]\n",
      " [-0.67557077 -1.02395575]\n",
      " [-0.34440863  0.31630047]]\n",
      "\n"
     ]
    }
   ],
   "source": [
    "from sklearn.preprocessing import StandardScaler\n",
    "\n",
    "x_train_standard = StandardScaler().fit_transform(x_train)\n",
    "\n",
    "x_test_standard = StandardScaler().fit_transform(x_test)\n",
    "\n",
    "print(\"X train after StandardScaler Transform \\n{}\\n\".format(x_train_standard))\n",
    "\n",
    "print(\"X test after StandardScaler Transform \\n{}\\n\".format(x_test_standard))"
   ]
  },
  {
   "cell_type": "markdown",
   "metadata": {},
   "source": [
    "# PROBLEM 5: Learning and estimation"
   ]
  }
 ],
 "metadata": {
  "kernelspec": {
   "display_name": "Python 3",
   "language": "python",
   "name": "python3"
  },
  "language_info": {
   "codemirror_mode": {
    "name": "ipython",
    "version": 3
   },
   "file_extension": ".py",
   "mimetype": "text/x-python",
   "name": "python",
   "nbconvert_exporter": "python",
   "pygments_lexer": "ipython3",
   "version": "3.8.6"
  }
 },
 "nbformat": 4,
 "nbformat_minor": 4
}
